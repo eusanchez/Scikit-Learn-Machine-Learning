{
 "cells": [
  {
   "cell_type": "code",
   "execution_count": 6,
   "metadata": {},
   "outputs": [],
   "source": [
    "import pandas as pd\n",
    "import numpy as np\n",
    "from sklearn.datasets import fetch_california_housing\n",
    "\n",
    "from sklearn.model_selection import validation_curve\n",
    "from sklearn.model_selection import train_test_split\n",
    "from sklearn.linear_model import Ridge\n",
    "import matplotlib.pyplot as plt\n",
    "\n",
    "df = fetch_california_housing()"
   ]
  },
  {
   "cell_type": "code",
   "execution_count": 7,
   "metadata": {},
   "outputs": [],
   "source": [
    "#Separating data.\n",
    "df_x, df_y = fetch_california_housing(return_X_y=True) #data, target"
   ]
  },
  {
   "cell_type": "code",
   "execution_count": 23,
   "metadata": {},
   "outputs": [
    {
     "name": "stdout",
     "output_type": "stream",
     "text": [
      "[1.43127   2.48789   1.46162   ... 1.46046   2.8002901 1.85268  ]\n"
     ]
    }
   ],
   "source": [
    "#CROSS VALIDATION USING KFOLD \n",
    "from sklearn.model_selection import cross_val_score\n",
    "from sklearn.model_selection import KFold\n",
    "\n",
    "kf = KFold(n_splits=5, shuffle=True, random_state=2) #mas nsplits mas se dividen los datos\n",
    "\n",
    "#Import the Random Forest Regressor \n",
    "from sklearn.ensemble import RandomForestRegressor   \n",
    "  \n",
    "#Create a Random Forest regressor object from Random Forest Regressor class\n",
    "RFReg = RandomForestRegressor() #n_estimators = 250, random_state = 0) #n_estimators cant de arboles\n",
    "\n",
    "#for x_values, y_values in kf.split(df_x):\n",
    "#    print(x_values,y_values)\n",
    "\n",
    "x_train,x_test,y_train,y_test = train_test_split(df_x,df_y,test_size=0.2,random_state=0) # shuffle= False)\n",
    "RFReg.fit(x_train, y_train)\n",
    "y_predict_rfr = RFReg.predict((x_test))\n",
    "print(y_predict_rfr)\n",
    "\n",
    "\n",
    "#Cross validation score\n",
    "#resultados = cross_val_score(RFReg, df_x, df_y, cv = kf)\n",
    "#print(resultados)\n",
    "#print(\"Average Cross Validation score :{}\".format(resultados.mean()))\n"
   ]
  },
  {
   "cell_type": "code",
   "execution_count": 16,
   "metadata": {},
   "outputs": [
    {
     "name": "stdout",
     "output_type": "stream",
     "text": [
      "[2.49315208 1.68091216 1.80403204 ... 1.117968   2.65165604 2.08342   ]\n"
     ]
    }
   ],
   "source": [
    "#For TTS\n",
    "x_main,x_test,y_main,y_test = train_test_split(df_x,df_y,test_size=0.2,random_state=0) \n",
    "\n",
    "x_train,x_val,y_train,y_val = train_test_split(x_main,y_main,test_size=0.2,random_state=0)\n",
    "\n",
    "#Import the Random Forest Regressor \n",
    "from sklearn.ensemble import RandomForestRegressor   \n",
    "\n",
    "#Create a Random Forest regressor object from Random Forest Regressor class\n",
    "RFReg = RandomForestRegressor(n_estimators = 250, random_state = 0) \n",
    "RFReg.fit(x_val, y_val)\n",
    "\n",
    "#Predicted Height from test dataset w.r.t Random Forest Regression\n",
    "y_predict_rfr = RFReg.predict((x_val))\n",
    "print(y_predict_rfr)\n"
   ]
  }
 ],
 "metadata": {
  "kernelspec": {
   "display_name": "Python 3",
   "language": "python",
   "name": "python3"
  },
  "language_info": {
   "codemirror_mode": {
    "name": "ipython",
    "version": 3
   },
   "file_extension": ".py",
   "mimetype": "text/x-python",
   "name": "python",
   "nbconvert_exporter": "python",
   "pygments_lexer": "ipython3",
   "version": "3.10.6"
  },
  "orig_nbformat": 4,
  "vscode": {
   "interpreter": {
    "hash": "e7370f93d1d0cde622a1f8e1c04877d8463912d04d973331ad4851f04de6915a"
   }
  }
 },
 "nbformat": 4,
 "nbformat_minor": 2
}
